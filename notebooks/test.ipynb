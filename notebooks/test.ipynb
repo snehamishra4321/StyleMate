{
 "cells": [
  {
   "cell_type": "code",
   "execution_count": 2,
   "metadata": {},
   "outputs": [],
   "source": [
    "import pandas as pd\n",
    "import numpy as np\n",
    "import sys\n",
    "\n",
    "sys.path.insert(1, '../')"
   ]
  },
  {
   "cell_type": "code",
   "execution_count": 20,
   "metadata": {},
   "outputs": [],
   "source": [
    "import os\n",
    "os.chdir('../')"
   ]
  },
  {
   "cell_type": "code",
   "execution_count": 26,
   "metadata": {},
   "outputs": [],
   "source": [
    "import pandas as pd\n",
    "import numpy as np\n",
    "import pdb\n",
    "from tqdm import tqdm\n",
    "import nltk\n",
    "import string\n",
    "import pickle \n",
    "import yaml\n",
    "import os\n",
    "import torch \n",
    "\n",
    "from sentence_transformers import SentenceTransformer\n",
    "\n",
    "from nltk import word_tokenize\n",
    "from nltk.corpus import stopwords\n",
    "from nltk.stem.porter import PorterStemmer\n",
    "from nltk.stem import WordNetLemmatizer\n",
    "\n",
    "import pickle\n"
   ]
  },
  {
   "cell_type": "code",
   "execution_count": 27,
   "metadata": {},
   "outputs": [],
   "source": [
    "CONFIG_FILE = 'config.yaml'\n",
    "\n",
    "def text_preprocessing(text: str):\n",
    "    \n",
    "    # Lowercase\n",
    "    text = text.lower()\n",
    "    # Remove Punctuation\n",
    "    # text = \"\".join([char for char in text if char not in string.punctuation])\n",
    "    words = word_tokenize(text)  \n",
    "    # Remove Stopwords\n",
    "    stop_words = stopwords.words('english')\n",
    "    filtered_words = [word for word in words if word not in stop_words]\n",
    "    ## Stemming\n",
    "    # porter = PorterStemmer()\n",
    "    # stemmed = [porter.stem(word) for word in filtered_words]\n",
    "    # Lemmatization\n",
    "    lemmatizer = WordNetLemmatizer()\n",
    "    lemmatized = [lemmatizer.lemmatize(word) for word in filtered_words]\n",
    "    \n",
    "    return ' '.join(lemmatized)\n",
    "\n",
    "def get_data_from_file(filename:str):\n",
    "\n",
    "    with open(filename, 'rb') as file:\n",
    "        data = pickle.load(file)\n",
    "    return data\n",
    "\n",
    "\n",
    "def get_top_n_indices(array, top_n):\n",
    "    return array.argsort()[-top_n:][::-1]"
   ]
  },
  {
   "cell_type": "code",
   "execution_count": 112,
   "metadata": {},
   "outputs": [],
   "source": [
    "class Recommender():\n",
    "\n",
    "    def __init__(self, primary_column:str = 'title', top_n:int = 10) -> None:\n",
    "\n",
    "        # Open the configuration file to load parameters\n",
    "        with open(CONFIG_FILE, \"r\") as file:\n",
    "            try:\n",
    "                self.params = yaml.safe_load(file)\n",
    "            except yaml.YAMLError as exc:\n",
    "                print(exc)\n",
    "        \n",
    "        self.top_n = top_n\n",
    "        self.primary_column = primary_column\n",
    "        metadata_file = self.params['METADATA_FILE']\n",
    "        self.metadata = pd.read_csv(metadata_file, index_col=0)\n",
    "        self.preprocess_metadata()\n",
    "        print(\"INFO: Initializing Model\")\n",
    "        self.model = SentenceTransformer('msmarco-distilbert-base-dot-prod-v3')\n",
    "        print(\"INFO: Creating embeddings\")\n",
    "        self.embeddings = self.get_embeddings(column=primary_column)\n",
    "        # self.product_feature_positiveness = get_data_from_file(self.params['product_feature_ratings'])\n",
    "\n",
    "\n",
    "    def preprocess_metadata(self) -> None:\n",
    "\n",
    "        self.metadata['description'] = self.metadata['description'].apply(lambda x: text_preprocessing(eval(x)[0]))\n",
    "\n",
    "    def get_embeddings(self, column) -> np.array:\n",
    "\n",
    "        # If embedding is locally saved already, load it \n",
    "        try:\n",
    "            with open(self.params['EMBEDDING_FILE'], 'rb') as file:\n",
    "                embeddings = pickle.load(file)\n",
    "            print(\"INFO : Loaded Product Embeddings\")\n",
    "            return embeddings\n",
    "        \n",
    "        # If embedding is not locally available, create embeddings\n",
    "        except:\n",
    "            print(\"INFO : Creating Embeddings\")\n",
    "            if torch.cuda.is_available():\n",
    "                embeddings = self.model.encode(self.metadata[column].tolist(), device='cuda') \n",
    "            else:\n",
    "                embeddings = self.model.encode(self.metadata[column].tolist())\n",
    "            embeddings = np.asarray(embeddings.astype('float32'))   \n",
    "            \n",
    "            print(\"INFO: Saving embeddings\")\n",
    "            if not os.path.exists(os.path.dirname(self.params['EMBEDDING_FILE'])):\n",
    "                os.mkdir(os.path.dirname(self.params['EMBEDDING_FILE']))\n",
    "            with open(self.params['EMBEDDING_FILE'],'wb') as file:\n",
    "                pickle.dump(embeddings, file, protocol=pickle.HIGHEST_PROTOCOL)\n",
    "\n",
    "            return embeddings\n",
    "\n",
    "    def return_most_similar(self, query):\n",
    "\n",
    "        print(\"INFO: Retrieving items for query\")\n",
    "        query_vector = self.model.encode([query])\n",
    "        similarity = np.dot(self.embeddings,query_vector.T)\n",
    "        top_items = similarity.flatten().argsort()[-self.top_n:][::-1]\n",
    "        print(self.metadata['title'].iloc[top_items])\n",
    "        return list(top_items), list(self.metadata['title'].iloc[top_items])\n",
    "\n",
    "\n",
    "    def character_similarity(self, character_list:list, subset_indices:list, method:int = 1):\n",
    "\n",
    "        # Method 1 - Join all characteristics to make an expanded query\n",
    "        if method == 1 :\n",
    "            character_query = ' '.join(character_list)\n",
    "            character_query_vector = self.model.encode(character_query)\n",
    "            similarity = np.dot(self.embeddings[subset_indices],character_query_vector.T)\n",
    "            # top_items =  get_top_n_indices(similarity.flatten(), self.top_n)       \n",
    "            return similarity / np.linalg.norm(similarity)\n",
    "\n",
    "        # Method 2 - Rank items based on individual characteristics\n",
    "        elif method == 2:\n",
    "            similarity_list =[]\n",
    "            for characteristic in character_list:\n",
    "                character_vector = self.model.encode(characteristic)\n",
    "                similarity = np.dot(self.embeddings[subset_indices],character_vector.T)\n",
    "                # top_items_list.append(get_top_n_indices(similarity.flatten(), top_n=200)) \n",
    "                similarity_list.append(similarity.flatten() / np.linalg.norm(similarity.flatten())) \n",
    "            agg_similarity = np.array(similarity_list).mean(axis=0)\n",
    "            return agg_similarity\n",
    "        \n",
    "    def feature_similarity(self, feature_imp):\n",
    "\n",
    "        agg_feature_poitiveness = np.zeros(self.product_feature_positiveness.shape()[0])\n",
    "        for ind, imp in enumerate(feature_imp):\n",
    "            agg_feature_poitiveness += imp*self.product_feature_positiveness[ind]\n",
    "        return agg_feature_poitiveness\n",
    "\n",
    "\n",
    "    def return_most_similar_v1(self, query:str, character_list:list, character_method:int, feature_imp:list = None):\n",
    "\n",
    "        print(\"INFO: Retrieving items for query\")\n",
    "        query_vector = self.model.encode([query + ' '.join(character_list)])\n",
    "        query_similarity = np.dot(self.embeddings,query_vector.T).flatten()\n",
    "        query_similarity  /= np.linalg.norm(query_similarity)\n",
    "        final_similarity = query_similarity\n",
    "        indices = get_top_n_indices(final_similarity, 10)\n",
    "        # character_similarity = self.character_similarity(character_list, method=1)\n",
    "        # feature_similarity = self.feature_similarity(feature_imp)\n",
    "\n",
    "        return indices\n",
    "                 \n",
    "\n",
    "    def get_top_items_for_features(top_n):\n",
    "        \n",
    "        self\n",
    "        final_product_embeddings = self.product_feature_ratings.mean(axis=1)\n",
    "        top_item_ind = get_top_n_indices(final_product_embeddings, top_n=5)\n",
    "        return top_item_ind"
   ]
  },
  {
   "cell_type": "code",
   "execution_count": 113,
   "metadata": {},
   "outputs": [
    {
     "name": "stdout",
     "output_type": "stream",
     "text": [
      "INFO: Initializing Model\n",
      "INFO: Creating embeddings\n",
      "INFO : Loaded Product Embeddings\n"
     ]
    }
   ],
   "source": [
    "recommender = Recommender(primary_column='description')\n"
   ]
  },
  {
   "cell_type": "code",
   "execution_count": 104,
   "metadata": {},
   "outputs": [
    {
     "data": {
      "text/plain": [
       "[\"Fangsto Women's Cowhide Leather Loafers Flats Sandals Slip-On\",\n",
       " \"Skechers USA Men's Caswell Oxford\",\n",
       " \"Roper Women's Lace and Underlay Western Boot\",\n",
       " \"Jambu Women's Pecan Mary Jane Flat\",\n",
       " \"KEEN Women's Terradora Mid Wp-w Hiking Boot\",\n",
       " \"JARO VEGA Women's Soft Goatskin Genuine Leather Pumps Slender Block Heel Closed Almond Toe Dress Shoes\",\n",
       " \"FRYE Women's Patty Artisan Zip Bootie\",\n",
       " \"ECCO Men's Soft 7 Fashion Sneaker\",\n",
       " \"Easy Spirit Women's Realflex Walking Shoe\",\n",
       " \"ASICS Women's GT-2000 3 Running Shoe\"]"
      ]
     },
     "execution_count": 104,
     "metadata": {},
     "output_type": "execute_result"
    }
   ],
   "source": [
    "query = 'Women leather shoes'\n",
    "\n",
    "# Query similarity\n",
    "query_similarity = np.dot(recommender.embeddings,recommender.model.encode([query]).T).flatten()\n",
    "query_similarity  /= np.linalg.norm(query_similarity)\n",
    "\n",
    "query_top_20 = get_top_n_indices(query_similarity, 20)\n",
    "# indices = get_top_n_indices(final_similarity, 20)\n",
    "\n",
    "character_list = ['Women', 'Leather']\n",
    "character_similarity = recommender.character_similarity(character_list=character_list, subset_indices=query_top_20, method=1)\n",
    "\n",
    "final_similarity = character_similarity\n",
    "sub_indices = get_top_n_indices(final_similarity, 10)\n",
    "main_indices = query_top_20[sub_indices]\n",
    "recommender.metadata['title'].iloc[main_indices].to_list()"
   ]
  },
  {
   "cell_type": "code",
   "execution_count": 1,
   "metadata": {},
   "outputs": [],
   "source": [
    "import pandas as pd\n",
    "\n",
    "metadata = pd.read_csv('../Project_Data/Metadata.csv', index_col=0)\n",
    "asins = metadata['asin'].to_list()\n",
    "image_ind = {}\n",
    "for asin in asins:\n",
    "    try:\n",
    "        Image.open('../Project_Data/Images/'+ str(asin)+ '_0.jpg')\n",
    "        image_ind[asin] = True\n",
    "    except:\n",
    "        image_ind[asin] = False\n",
    "\n",
    "    break"
   ]
  },
  {
   "cell_type": "code",
   "execution_count": 3,
   "metadata": {},
   "outputs": [
    {
     "name": "stderr",
     "output_type": "stream",
     "text": [
      "1000it [00:00, 999357.64it/s]\n"
     ]
    }
   ],
   "source": [
    "from tqdm import tqdm\n",
    "\n",
    "for ind, asin in tqdm(enumerate(asins)):\n",
    "    try:\n",
    "        Image.open('../Project_Data/Images/'+ str(asin)+ '_0.jpg')\n",
    "        image_ind[asin] = True\n",
    "    except:\n",
    "        image_ind[asin] = False\n",
    "\n",
    "    if ind>=1000:\n",
    "        break"
   "execution_count": 115,
   "metadata": {},
   "outputs": [
    {
     "name": "stdout",
     "output_type": "stream",
     "text": [
      "INFO: Retrieving items for query\n"
     ]
    },
    {
     "data": {
      "text/plain": [
       "['SoftSpots Perri Women&rsquo;s Slip-On',\n",
       " \"Blue Q Men's Crew Socks - Fits Men's Shoe Size 7-12\",\n",
       " \"Lacoste Men's Malahini Deck 316 1 Spm Fashion Sneaker\",\n",
       " 'In Touch Bamboo Above The Knee Skirt',\n",
       " \"Clarks Women's Daelyn Summit Slip-On Loafer\",\n",
       " \"Luichiny Women's Case Closed Snow Boot\",\n",
       " \"Steve Madden Women's Pierce Ankle Bootie\",\n",
       " \"Muck Boot Women's Breezy Low Boot\",\n",
       " \"Skechers Sport Women's Scene Stealer Fashion Sneaker\",\n",
       " 'Soft Jersey Blend Sleep Hat Comfortable Soft Hat Liner Beanie Skull Cap Chemo Hair Loss Head Covering']"
      ]
     },
     "execution_count": 115,
     "metadata": {},
     "output_type": "execute_result"
    }
   ],
   "source": [
    "query = \"Women's shoes\"\n",
    "character_list = ['Shiny', 'Sexy', 'Black']\n",
    "recommender.metadata['title'].iloc[recommender.return_most_similar_v1(query=query, character_list=character_list, character_method=1)].to_list()"
   ]
  },
  {
   "cell_type": "code",
   "execution_count": 97,
   "metadata": {},
   "outputs": [
    {
     "data": {
      "text/plain": [
       "array([4266, 1967, 1929, 4669, 4094, 2543, 2580,  896, 1814, 4878])"
      ]
     },
     "execution_count": 97,
     "metadata": {},
     "output_type": "execute_result"
    }
   ],
   "source": [
    "main_indices"
   ]
  },
  {
   "cell_type": "code",
   "execution_count": 116,
   "metadata": {},
   "outputs": [
    {
     "data": {
      "text/plain": [
       "[1, 2, 3, 4, 5, 6, 7]"
      ]
     },
     "execution_count": 116,
     "metadata": {},
     "output_type": "execute_result"
    }
   ],
   "source": [
    "l = [1,2,3,4,5,6,7]\n",
    "l[:100]"
   ]
  },
  {
   "cell_type": "code",
   "execution_count": 80,
   "metadata": {},
   "outputs": [
    {
     "data": {
      "text/plain": [
       "['Crocs A Leigh 2-Strap Miniwedge',\n",
       " \"Womens Soft Leather Cigarette Case Holds Regular and 100's USA Made\",\n",
       " \"Cole Haan Men's Calhoun Lace-Up Derby Shoe\",\n",
       " \"Geox Men's Federico 9 Shoe\",\n",
       " \"Skechers USA Men's Caswell Oxford\",\n",
       " 'Woly German Suede Nubuck Brush 5&quot; Removes Dirt &amp; Stains on Designer Shoes, Boots, Handbags, Clothes.',\n",
       " \"Birkenstock Women's Madrid Birko-Flor Sandal\",\n",
       " \"Lucky Women's Galvann\",\n",
       " 'Collonil Nubuck + Velours/Suede Waterproof Protector Repellent Spray, 200 ml',\n",
       " \"Fangsto Women's Cowhide Leather Loafers Flats Sandals Slip-On\"]"
      ]
     },
     "execution_count": 80,
     "metadata": {},
     "output_type": "execute_result"
    }
   ],
   "source": [
    "recommender.metadata['title'].iloc[get_top_n_indices(character_similarity, 10)].to_list()"
   ]
  },
  {
   "cell_type": "code",
   "execution_count": 81,
   "metadata": {},
   "outputs": [
    {
     "data": {
      "text/plain": [
       "['SoftSpots Perri Women&rsquo;s Slip-On',\n",
       " \"Lacoste Men's Malahini Deck 316 1 Spm Fashion Sneaker\",\n",
       " \"Rocket Dog Women's Rainy Rubber Rain Boot\",\n",
       " \"Clarks Women's Blanche Nora Ballet Flat\",\n",
       " \"Bloch Dance Women's Jazzsoft Split Sole Leather Jazz Shoe\",\n",
       " 'Teva Scamper Water Shoe (Toddler/Little Kid/Big Kid)',\n",
       " \"Ollio Women's Shoe Cross Braided Multi Color Flat Sandal\",\n",
       " 'Adidas Pretereo 2 Wrestling Shoes - Collegiate Royal/White/Black',\n",
       " \"Dr. Martens Men's Octavius Lace Shoe\",\n",
       " \"New Balance Women's Minimus Sport Spikeless Golf Shoe\"]"
      ]
     },
     "execution_count": 81,
     "metadata": {},
     "output_type": "execute_result"
    }
   ],
   "source": [
    "recommender.metadata['title'].iloc[get_top_n_indices(query_similarity, 10)].to_list()"
   ]
  },
  {
   "cell_type": "code",
   "execution_count": 117,
   "metadata": {},
   "outputs": [],
   "source": [
    "metadata = pd.read_csv('./Project_Data/Metadata.csv')"
   ]
  },
  {
   "cell_type": "code",
   "execution_count": 118,
   "metadata": {},
   "outputs": [],
   "source": [
    "asin_mapping = {}\n",
    "for ind, row in metadata.iterrows():\n",
    "    asin_mapping[row['asin']] = ind\n"
   ]
  },
  {
   "cell_type": "code",
   "execution_count": 120,
   "metadata": {},
   "outputs": [],
   "source": [
    "with open('./Output/asin_mapping.pickle', 'wb') as file:\n",
    "    pickle.dump(asin_mapping, file, protocol=pickle.HIGHEST_PROTOCOL)\n",
    "# asin_mapping"
   ]
  },
  {
   "cell_type": "code",
   "execution_count": 124,
   "metadata": {},
   "outputs": [
    {
     "data": {
      "text/plain": [
       "['[\\'Analog-quartz movement\\', \\'Three pcs watch set (one bracelet watch; two interchangeable strap bands)\\', \\'one strap band is black crocodile, another is brown crocodile\\', \\'changing the band easily by pushing the pin\\', \\'strap bands are with buckle closure\\', \\'Analog-quartz movement\\', \\'Three pcs watch set (one bracelet watch; two interchangeable strap bands)\\', \\'one strap band is black crocodile, another is brown crocodile\\', \\'changing the band easily by pushing the pin\\', \\'strap bands are with buckle closure\\', \\'You can return this item for any reason and get a full refund: no shipping charges. The item must be returned in new and unused condition.\\', \\'<a id=\"creturns-policy-url-text-pc\" class=\"a-link-normal\" href=\"/b/ref=frt_dp_sm?ie=UTF8&node=8622296011\">\\\\n                        Read the full returns policy\\\\n                    </a>\\', \\'Go to Your Orders to start the return\\', \\'Print the return shipping label\\', \\'Ship it!\\', \\'<span>Covers broken watchband, movement failures, cracked crystal, bezel damage and more. Includes a 1-time refurbishment.</span>\\', \\'<span>No deductibles or hidden fees. Free shipping on all repairs. Fully transferable.</span>\\', \\'<span>Easy claims process online or by phone 24/7. If we can&#039;t fix it, we will send you an Amazon e-Card for full replacement value.</span>\\', \\'<span>Coverage begins date of purchase and is inclusive of the manufacturer&#039;s warranty. Plan is fully refunded if canceled within 30 days.</span>\\', \\'<span>Plan contract will be emailed from Asurion within 48 hours of purchase. This will not ship with your product.</span>\\', \\'<span>What&#039;s Covered: mechanical and electrical failures during normal use, 100% parts and labor</span>\\', \\'<span>Get fast repairs or replacements from SquareTrade, an Allstate company</span>\\', \\'<span>24/7 customer support, free shipping for all repairs, no deductibles or hidden fees</span>\\', \\'<span>Cancel anytime, full refund in first 30 days, fully transferable with gifts</span>\\', \\'<span>SquareTrade Protection Plans are only valid for new or Amazon certified refurbished products purchased at Amazon in the last 30 days. By purchasing this Protection Plan you agree to the Protection Plan Terms &amp; Conditions (http://www.squaretrade.com/terms-standard). Your Protection Plan Terms &amp; Conditions will be delivered via email within 24 hours of purchase</span>\\', \\'Covers broken watchband, movement failures, cracked crystal, bezel damage and more. Includes a 1-time refurbishment.\\', \\'No deductibles or hidden fees. Free shipping on all repairs. Fully transferable.\\', \"Easy claims process online or by phone 24/7. If we can\\'t fix it, we will send you an Amazon e-Card for full replacement value.\", \"Coverage begins date of purchase and is inclusive of the manufacturer\\'s warranty. Plan is fully refunded if canceled within 30 days.\", \\'Plan contract will be emailed from Asurion within 48 hours of purchase. This will not ship with your product.\\', \\'<span class=\"a-text-bold\">Package Dimensions:\\\\n                    </span>\\\\n                    <span>5.9 x 4.3 x 3.1 inches</span>\\', \\'<span class=\"a-text-bold\">Shipping Weight:\\\\n                    </span>\\\\n                    <span>12.8 ounces (<a href=\\\\\\'https://www.amazon.com/gp/help/seller/shipping.html/ref=dp_pd_shipping?_encoding=UTF8&amp;seller=ATVPDKIKX0DER&amp;asin=B0068RLMWY\\\\\\'>View shipping rates and policies</a>)</span>\\', \\'<span class=\"a-text-bold\">ASIN:\\\\n                    </span>\\\\n                    <span>B0068RLMWY</span>\\', \\'\\', \\'<span class=\"a-text-bold\">Item model number:\\\\n                    </span>\\\\n                    <span>US2038</span>\\', \\'<span class=\"a-text-bold\">Date first listed on Amazon:\\\\n                    </span>\\\\n                    <span>December 2, 2011</span>\\', \\'\\', \\'<span class=\"a-text-bold\">Domestic Shipping:\\\\n\\\\t\\\\t\\\\t</span>\\\\n\\\\t\\\\t\\\\t<span>Item can be shipped within U.S.</span>\\', \\'<span class=\"a-text-bold\">International Shipping:\\\\n\\\\t\\\\t\\\\t</span>\\\\n\\\\t\\\\t\\\\t<span>This item can be shipped to select countries outside of the U.S.  <a href=\\\\\\'/gp/help/customer/display.html?ie=UTF8&amp;nodeId=201117930\\\\\\' target=\\\\\\'InternationalShippingDetails\\\\\\'>Learn More</a></span>\\', \\'<span class=\"a-text-bold\">\\\\n                    Average Customer Review:\\\\n                </span>\\\\n                \\\\n\\\\n\\\\n\\\\n\\\\n<style type=\"text/css\">\\\\n    /* \\\\n    * Fix for UDP-1061. Average customer reviews has a small extra line on hover \\\\n    * https://omni-grok.amazon.com/xref/src/appgroup/websiteTemplates/retail/SoftlinesDetailPageAssets/udp-intl-lock/src/legacy.css?indexName=WebsiteTemplates#40\\\\n    */\\\\n    .noUnderline a:hover { \\\\n        text-decoration: none; \\\\n    }\\\\n</style>\\\\n\\\\n\\\\n\\\\n    \\\\n    \\\\n    \\\\n    \\\\n        \\\\n\\\\n        \\\\n\\\\n        \\\\n        \\\\n        \\\\n        \\\\n\\\\t\\\\t\\\\n\\\\t\\\\t\\\\n\\\\t\\\\t\\\\n\\\\t\\\\t\\\\n\\\\t\\\\t        \\\\n\\\\t\\\\t\\\\n\\\\t\\\\t\\\\n\\\\t\\\\t\\\\n\\\\t\\\\t\\\\n\\\\t\\\\t\\\\n\\\\t\\\\t\\\\n\\\\t\\\\t\\\\n\\\\t\\\\t        \\\\n        \\\\n\\\\n        <div id=\"detailBullets_averageCustomerReviews\" class=\"a-spacing-none\" data-asin=\"B0068RLMWY\" data-ref=\"dpx_acr_pop_\" >\\\\n            \\\\n            \\\\n            \\\\n                \\\\n                \\\\n                    \\\\n\\\\n\\\\n\\\\n\\\\n\\\\n\\\\n\\\\n\\\\n\\\\n\\\\n        <span class=\"a-declarative\" data-action=\"acrStarsLink-click-metrics\" data-acrStarsLink-click-metrics=\"{}\">\\\\n            \\\\n\\\\n\\\\n\\\\n\\\\n\\\\n    <span id=\"acrPopover\" class=\"reviewCountTextLinkedHistogram noUnderline\" title=\"3.2 out of 5 stars\">\\\\n        <span class=\"a-declarative\" data-action=\"a-popover\" data-a-popover=\"{&quot;max-width&quot;:&quot;700&quot;,&quot;closeButton&quot;:&quot;false&quot;,&quot;position&quot;:&quot;triggerBottom&quot;,&quot;url&quot;:&quot;/gp/customer-reviews/widgets/average-customer-review/popover/ref=dpx_acr_pop_?contextId=dpx&amp;asin=B0068RLMWY&quot;}\">\\\\n            <a href=\"javascript:void(0)\" class=\"a-popover-trigger a-declarative\">\\\\n                \\\\n\\\\n<i class=\"a-icon a-icon-star a-star-3\"><span class=\"a-icon-alt\">3.2 out of 5 stars</span></i>\\\\n                \\\\n            <i class=\"a-icon a-icon-popover\"></i></a>\\\\n        </span>\\\\n        <span class=\"a-letter-space\"></span>\\\\n    </span>\\\\n\\\\n\\\\n        </span>\\\\n        <span class=\"a-letter-space\"></span>\\\\n        \\\\n        \\\\n\\\\n        \\\\n\\\\n        \\\\n\\\\n        \\\\n        \\\\n        \\\\n        \\\\n        \\\\n        \\\\n        \\\\n            \\\\n            \\\\n                <span class=\"a-declarative\" data-action=\"acrLink-click-metrics\" data-acrLink-click-metrics=\"{}\">\\\\n                    <a id=\"acrCustomerReviewLink\" class=\"a-link-normal\" href=\"#customerReviews\">\\\\n                        <span id=\"acrCustomerReviewText\" class=\"a-size-base\">17 customer reviews</span>\\\\n                    </a>\\\\n                </span>\\\\n            \\\\n                <script type=\"text/javascript\">\\\\n                    P.when(\\\\\\'A\\\\\\', \\\\\\'ready\\\\\\').execute(function(A) {\\\\n                        A.declarative(\\\\\\'acrLink-click-metrics\\\\\\', \\\\\\'click\\\\\\', { \"allowLinkDefault\" : true }, function(event){\\\\n                            if(window.ue) {\\\\n                                ue.count(\"acrLinkClickCount\", (ue.count(\"acrLinkClickCount\") || 0) + 1);\\\\n                            }\\\\n                        });\\\\n                    });\\\\n                </script>\\\\n            \\\\n            \\\\n            \\\\n            \\\\n        \\\\n        \\\\n        <script type=\"text/javascript\">\\\\n            P.when(\\\\\\'A\\\\\\', \\\\\\'cf\\\\\\').execute(function(A) {\\\\n                A.declarative(\\\\\\'acrStarsLink-click-metrics\\\\\\', \\\\\\'click\\\\\\', { \"allowLinkDefault\" : true },  function(event){\\\\n                    if(window.ue) {\\\\n                        ue.count(\"acrStarsLinkWithPopoverClickCount\", (ue.count(\"acrStarsLinkWithPopoverClickCount\") || 0) + 1);\\\\n                    }\\\\n                });\\\\n            });\\\\n        </script>\\\\n\\\\n\\\\n                \\\\n            \\\\n        </div>\\']',\n",
       " '[\\'100% Cotton\\', \\'100% Cotton\\', \\'<span class=\"a-text-bold\">Shipping Information:\\\\n                    </span>\\\\n                    <span><a href=\\\\\\'https://www.amazon.com/gp/help/seller/shipping.html/ref=dp_pd_shipping?_encoding=UTF8&amp;seller=AWTVN3BNE3NEZ&amp;asin=B07C62L4JJ\\\\\\'>View shipping rates and policies</a></span>\\', \\'<span class=\"a-text-bold\">ASIN:\\\\n                    </span>\\\\n                    <span>B07C62L4JJ</span>\\', \\'\\', \\'<span class=\"a-text-bold\">Date first listed on Amazon:\\\\n                    </span>\\\\n                    <span>July 21, 2010</span>\\', \\'<span class=\"a-text-bold\">\\\\n                    Average Customer Review:\\\\n                </span>\\\\n                \\\\n\\\\n\\\\n\\\\n\\\\n<style type=\"text/css\">\\\\n    /* \\\\n    * Fix for UDP-1061. Average customer reviews has a small extra line on hover \\\\n    * https://omni-grok.amazon.com/xref/src/appgroup/websiteTemplates/retail/SoftlinesDetailPageAssets/udp-intl-lock/src/legacy.css?indexName=WebsiteTemplates#40\\\\n    */\\\\n    .noUnderline a:hover { \\\\n        text-decoration: none; \\\\n    }\\\\n</style>\\\\n\\\\n\\\\n\\\\n    \\\\n    \\\\n    \\\\n    \\\\n        \\\\n\\\\n        \\\\n\\\\n        \\\\n        \\\\n        \\\\n        \\\\n\\\\t\\\\t\\\\n\\\\t\\\\t\\\\n\\\\t\\\\t\\\\n\\\\t\\\\t\\\\n\\\\t\\\\t        \\\\n\\\\t\\\\t\\\\n\\\\t\\\\t\\\\n\\\\t\\\\t\\\\n\\\\t\\\\t\\\\n\\\\t\\\\t\\\\n\\\\t\\\\t\\\\n\\\\t\\\\t\\\\n\\\\t\\\\t        \\\\n        \\\\n\\\\n        <div id=\"detailBullets_averageCustomerReviews\" class=\"a-spacing-none\" data-asin=\"B07C62L4JJ\" data-ref=\"dpx_acr_pop_\" >\\\\n            \\\\n            \\\\n            \\\\n                \\\\n                \\\\n                    \\\\n\\\\n\\\\n\\\\n\\\\n\\\\n\\\\n\\\\n\\\\n\\\\n\\\\n        <span class=\"a-declarative\" data-action=\"acrStarsLink-click-metrics\" data-acrStarsLink-click-metrics=\"{}\">\\\\n            \\\\n\\\\n\\\\n\\\\n\\\\n\\\\n    <span id=\"acrPopover\" class=\"reviewCountTextLinkedHistogram noUnderline\" title=\"3.5 out of 5 stars\">\\\\n        <span class=\"a-declarative\" data-action=\"a-popover\" data-a-popover=\"{&quot;max-width&quot;:&quot;700&quot;,&quot;closeButton&quot;:&quot;false&quot;,&quot;position&quot;:&quot;triggerBottom&quot;,&quot;url&quot;:&quot;/gp/customer-reviews/widgets/average-customer-review/popover/ref=dpx_acr_pop_?contextId=dpx&amp;asin=B07C62L4JJ&quot;}\">\\\\n            <a href=\"javascript:void(0)\" class=\"a-popover-trigger a-declarative\">\\\\n                \\\\n\\\\n<i class=\"a-icon a-icon-star a-star-3-5\"><span class=\"a-icon-alt\">3.5 out of 5 stars</span></i>\\\\n                \\\\n            <i class=\"a-icon a-icon-popover\"></i></a>\\\\n        </span>\\\\n        <span class=\"a-letter-space\"></span>\\\\n    </span>\\\\n\\\\n\\\\n        </span>\\\\n        <span class=\"a-letter-space\"></span>\\\\n        \\\\n        \\\\n\\\\n        \\\\n\\\\n        \\\\n\\\\n        \\\\n        \\\\n        \\\\n        \\\\n        \\\\n        \\\\n        \\\\n            \\\\n            \\\\n                <span class=\"a-declarative\" data-action=\"acrLink-click-metrics\" data-acrLink-click-metrics=\"{}\">\\\\n                    <a id=\"acrCustomerReviewLink\" class=\"a-link-normal\" href=\"#customerReviews\">\\\\n                        <span id=\"acrCustomerReviewText\" class=\"a-size-base\">44 customer reviews</span>\\\\n                    </a>\\\\n                </span>\\\\n            \\\\n                <script type=\"text/javascript\">\\\\n                    P.when(\\\\\\'A\\\\\\', \\\\\\'ready\\\\\\').execute(function(A) {\\\\n                        A.declarative(\\\\\\'acrLink-click-metrics\\\\\\', \\\\\\'click\\\\\\', { \"allowLinkDefault\" : true }, function(event){\\\\n                            if(window.ue) {\\\\n                                ue.count(\"acrLinkClickCount\", (ue.count(\"acrLinkClickCount\") || 0) + 1);\\\\n                            }\\\\n                        });\\\\n                    });\\\\n                </script>\\\\n            \\\\n            \\\\n            \\\\n            \\\\n        \\\\n        \\\\n        <script type=\"text/javascript\">\\\\n            P.when(\\\\\\'A\\\\\\', \\\\\\'cf\\\\\\').execute(function(A) {\\\\n                A.declarative(\\\\\\'acrStarsLink-click-metrics\\\\\\', \\\\\\'click\\\\\\', { \"allowLinkDefault\" : true },  function(event){\\\\n                    if(window.ue) {\\\\n                        ue.count(\"acrStarsLinkWithPopoverClickCount\", (ue.count(\"acrStarsLinkWithPopoverClickCount\") || 0) + 1);\\\\n                    }\\\\n                });\\\\n            });\\\\n        </script>\\\\n\\\\n\\\\n                \\\\n            \\\\n        </div>\\']',\n",
       " '[\\'Cotton Blend\\', \"Sent by USPS, 7-15 days\\' delivery.\", \\'Free Size:66.93\"*25.59\",Adjustable\\', \\'Through the global ITS environmental quality testing\\', \\'Fits snug around the face\\', \\'Perfect for any Mohajaba\\', \\'You can return this item for any reason and get a full refund: no shipping charges. The item must be returned in new and unused condition.\\', \\'<a id=\"creturns-policy-url-text-pc\" class=\"a-link-normal\" href=\"/b/ref=frt_dp_sm?ie=UTF8&node=8622296011\">\\\\n                        Read the full returns policy\\\\n                    </a>\\', \\'Go to Your Orders to start the return\\', \\'Print the return shipping label\\', \\'Ship it!\\', \\'<span class=\"a-text-bold\">Shipping Information:\\\\n                    </span>\\\\n                    <span><a href=\\\\\\'https://www.amazon.com/gp/help/seller/shipping.html/ref=dp_pd_shipping?_encoding=UTF8&amp;seller=AHO6MSFJYHQJ5&amp;asin=B017STBZSQ\\\\\\'>View shipping rates and policies</a></span>\\', \\'<span class=\"a-text-bold\">ASIN:\\\\n                    </span>\\\\n                    <span>B017STBZSQ</span>\\', \\'\\', \\'<span class=\"a-text-bold\">Item model number:\\\\n                    </span>\\\\n                    <span>CH013K</span>\\', \\'<span class=\"a-text-bold\">Date first listed on Amazon:\\\\n                    </span>\\\\n                    <span>November 10, 2015</span>\\', \\'<span class=\"a-text-bold\">\\\\n                    Average Customer Review:\\\\n                </span>\\\\n                \\\\n\\\\n\\\\n\\\\n\\\\n<style type=\"text/css\">\\\\n    /* \\\\n    * Fix for UDP-1061. Average customer reviews has a small extra line on hover \\\\n    * https://omni-grok.amazon.com/xref/src/appgroup/websiteTemplates/retail/SoftlinesDetailPageAssets/udp-intl-lock/src/legacy.css?indexName=WebsiteTemplates#40\\\\n    */\\\\n    .noUnderline a:hover { \\\\n        text-decoration: none; \\\\n    }\\\\n</style>\\\\n\\\\n\\\\n\\\\n    \\\\n    \\\\n    \\\\n    \\\\n        \\\\n\\\\n        \\\\n\\\\n        \\\\n        \\\\n        \\\\n        \\\\n\\\\t\\\\t\\\\n\\\\t\\\\t\\\\n\\\\t\\\\t\\\\n\\\\t\\\\t\\\\n\\\\t\\\\t        \\\\n\\\\t\\\\t\\\\n\\\\t\\\\t\\\\n\\\\t\\\\t\\\\n\\\\t\\\\t\\\\n\\\\t\\\\t\\\\n\\\\t\\\\t\\\\n\\\\t\\\\t\\\\n\\\\t\\\\t        \\\\n        \\\\n\\\\n        <div id=\"detailBullets_averageCustomerReviews\" class=\"a-spacing-none\" data-asin=\"B017SRR47O\" data-ref=\"dpx_acr_pop_\" >\\\\n            \\\\n            \\\\n            \\\\n                \\\\n                \\\\n                    \\\\n\\\\n\\\\n\\\\n\\\\n\\\\n\\\\n\\\\n\\\\n\\\\n\\\\n        <span class=\"a-declarative\" data-action=\"acrStarsLink-click-metrics\" data-acrStarsLink-click-metrics=\"{}\">\\\\n            \\\\n\\\\n\\\\n\\\\n\\\\n\\\\n    <span id=\"acrPopover\" class=\"reviewCountTextLinkedHistogram noUnderline\" title=\"3.3 out of 5 stars\">\\\\n        <span class=\"a-declarative\" data-action=\"a-popover\" data-a-popover=\"{&quot;max-width&quot;:&quot;700&quot;,&quot;closeButton&quot;:&quot;false&quot;,&quot;position&quot;:&quot;triggerBottom&quot;,&quot;url&quot;:&quot;/gp/customer-reviews/widgets/average-customer-review/popover/ref=dpx_acr_pop_?contextId=dpx&amp;asin=B017SRR47O&quot;}\">\\\\n            <a href=\"javascript:void(0)\" class=\"a-popover-trigger a-declarative\">\\\\n                \\\\n\\\\n<i class=\"a-icon a-icon-star a-star-3-5\"><span class=\"a-icon-alt\">3.3 out of 5 stars</span></i>\\\\n                \\\\n            <i class=\"a-icon a-icon-popover\"></i></a>\\\\n        </span>\\\\n        <span class=\"a-letter-space\"></span>\\\\n    </span>\\\\n\\\\n\\\\n        </span>\\\\n        <span class=\"a-letter-space\"></span>\\\\n        \\\\n        \\\\n\\\\n        \\\\n\\\\n        \\\\n\\\\n        \\\\n        \\\\n        \\\\n        \\\\n        \\\\n        \\\\n        \\\\n            \\\\n            \\\\n                <span class=\"a-declarative\" data-action=\"acrLink-click-metrics\" data-acrLink-click-metrics=\"{}\">\\\\n                    <a id=\"acrCustomerReviewLink\" class=\"a-link-normal\" href=\"#customerReviews\">\\\\n                        <span id=\"acrCustomerReviewText\" class=\"a-size-base\">31 customer reviews</span>\\\\n                    </a>\\\\n                </span>\\\\n            \\\\n                <script type=\"text/javascript\">\\\\n                    P.when(\\\\\\'A\\\\\\', \\\\\\'ready\\\\\\').execute(function(A) {\\\\n                        A.declarative(\\\\\\'acrLink-click-metrics\\\\\\', \\\\\\'click\\\\\\', { \"allowLinkDefault\" : true }, function(event){\\\\n                            if(window.ue) {\\\\n                                ue.count(\"acrLinkClickCount\", (ue.count(\"acrLinkClickCount\") || 0) + 1);\\\\n                            }\\\\n                        });\\\\n                    });\\\\n                </script>\\\\n            \\\\n            \\\\n            \\\\n            \\\\n        \\\\n        \\\\n        <script type=\"text/javascript\">\\\\n            P.when(\\\\\\'A\\\\\\', \\\\\\'cf\\\\\\').execute(function(A) {\\\\n                A.declarative(\\\\\\'acrStarsLink-click-metrics\\\\\\', \\\\\\'click\\\\\\', { \"allowLinkDefault\" : true },  function(event){\\\\n                    if(window.ue) {\\\\n                        ue.count(\"acrStarsLinkWithPopoverClickCount\", (ue.count(\"acrStarsLinkWithPopoverClickCount\") || 0) + 1);\\\\n                    }\\\\n                });\\\\n            });\\\\n        </script>\\\\n\\\\n\\\\n                \\\\n            \\\\n        </div>\\']',\n",
       " '[\\'Polycarbonate\\', \\'Made in US\\', \\'2\" high\\', \\'New dedicated style for a feminine target, light, flexible, resilient nylon fiber\\', \\'You can return this item for any reason and get a full refund: no shipping charges. The item must be returned in new and unused condition.\\', \\'<a id=\"creturns-policy-url-text-pc\" class=\"a-link-normal\" href=\"/b/ref=frt_dp_sm?ie=UTF8&node=8622296011\">\\\\n                        Read the full returns policy\\\\n                    </a>\\', \\'Go to Your Orders to start the return\\', \\'Print the return shipping label\\', \\'Ship it!\\', \\'<span class=\"a-text-bold\">Product Dimensions:\\\\n                    </span>\\\\n                    <span>6 x 2 x 2 inches</span>\\', \\'<span class=\"a-text-bold\">Shipping Weight:\\\\n                    </span>\\\\n                    <span>4.2 ounces (<a href=\\\\\\'https://www.amazon.com/gp/help/seller/shipping.html/ref=dp_pd_shipping?_encoding=UTF8&amp;seller=ATVPDKIKX0DER&amp;asin=B00W8CK1YS\\\\\\'>View shipping rates and policies</a>)</span>\\', \\'<span class=\"a-text-bold\">ASIN:\\\\n                    </span>\\\\n                    <span>B00W8CK1YS</span>\\', \\'\\', \\'<span class=\"a-text-bold\">Item model number:\\\\n                    </span>\\\\n                    <span>0RB4227</span>\\', \\'<span class=\"a-text-bold\">Date first listed on Amazon:\\\\n                    </span>\\\\n                    <span>April 30, 2015</span>\\', \\'<span class=\"a-text-bold\">\\\\n                    Average Customer Review:\\\\n                </span>\\\\n                \\\\n\\\\n\\\\n\\\\n\\\\n<style type=\"text/css\">\\\\n    /* \\\\n    * Fix for UDP-1061. Average customer reviews has a small extra line on hover \\\\n    * https://omni-grok.amazon.com/xref/src/appgroup/websiteTemplates/retail/SoftlinesDetailPageAssets/udp-intl-lock/src/legacy.css?indexName=WebsiteTemplates#40\\\\n    */\\\\n    .noUnderline a:hover { \\\\n        text-decoration: none; \\\\n    }\\\\n</style>\\\\n\\\\n\\\\n\\\\n    \\\\n    \\\\n    \\\\n    \\\\n        \\\\n\\\\n        \\\\n\\\\n        \\\\n        \\\\n        \\\\n        \\\\n\\\\t\\\\t\\\\n\\\\t\\\\t\\\\n\\\\t\\\\t\\\\n\\\\t\\\\t\\\\n\\\\t\\\\t        \\\\n\\\\t\\\\t\\\\n\\\\t\\\\t\\\\n\\\\t\\\\t\\\\n\\\\t\\\\t\\\\n\\\\t\\\\t\\\\n\\\\t\\\\t\\\\n\\\\t\\\\t\\\\n\\\\t\\\\t        \\\\n        \\\\n\\\\n        <div id=\"detailBullets_averageCustomerReviews\" class=\"a-spacing-none\" data-asin=\"B00W8CK1YS\" data-ref=\"dpx_acr_pop_\" >\\\\n            \\\\n            \\\\n            \\\\n                \\\\n                \\\\n                    \\\\n\\\\n\\\\n\\\\n\\\\n\\\\n\\\\n\\\\n\\\\n\\\\n\\\\n        <span class=\"a-declarative\" data-action=\"acrStarsLink-click-metrics\" data-acrStarsLink-click-metrics=\"{}\">\\\\n            \\\\n\\\\n\\\\n\\\\n\\\\n\\\\n    <span id=\"acrPopover\" class=\"reviewCountTextLinkedHistogram noUnderline\" title=\"4.6 out of 5 stars\">\\\\n        <span class=\"a-declarative\" data-action=\"a-popover\" data-a-popover=\"{&quot;max-width&quot;:&quot;700&quot;,&quot;closeButton&quot;:&quot;false&quot;,&quot;position&quot;:&quot;triggerBottom&quot;,&quot;url&quot;:&quot;/gp/customer-reviews/widgets/average-customer-review/popover/ref=dpx_acr_pop_?contextId=dpx&amp;asin=B00W8CK1YS&quot;}\">\\\\n            <a href=\"javascript:void(0)\" class=\"a-popover-trigger a-declarative\">\\\\n                \\\\n\\\\n<i class=\"a-icon a-icon-star a-star-4-5\"><span class=\"a-icon-alt\">4.6 out of 5 stars</span></i>\\\\n                \\\\n            <i class=\"a-icon a-icon-popover\"></i></a>\\\\n        </span>\\\\n        <span class=\"a-letter-space\"></span>\\\\n    </span>\\\\n\\\\n\\\\n        </span>\\\\n        <span class=\"a-letter-space\"></span>\\\\n        \\\\n        \\\\n\\\\n        \\\\n\\\\n        \\\\n\\\\n        \\\\n        \\\\n        \\\\n        \\\\n        \\\\n        \\\\n        \\\\n            \\\\n            \\\\n                <span class=\"a-declarative\" data-action=\"acrLink-click-metrics\" data-acrLink-click-metrics=\"{}\">\\\\n                    <a id=\"acrCustomerReviewLink\" class=\"a-link-normal\" href=\"#customerReviews\">\\\\n                        <span id=\"acrCustomerReviewText\" class=\"a-size-base\">16 customer reviews</span>\\\\n                    </a>\\\\n                </span>\\\\n            \\\\n                <script type=\"text/javascript\">\\\\n                    P.when(\\\\\\'A\\\\\\', \\\\\\'ready\\\\\\').execute(function(A) {\\\\n                        A.declarative(\\\\\\'acrLink-click-metrics\\\\\\', \\\\\\'click\\\\\\', { \"allowLinkDefault\" : true }, function(event){\\\\n                            if(window.ue) {\\\\n                                ue.count(\"acrLinkClickCount\", (ue.count(\"acrLinkClickCount\") || 0) + 1);\\\\n                            }\\\\n                        });\\\\n                    });\\\\n                </script>\\\\n            \\\\n            \\\\n            \\\\n            \\\\n        \\\\n        \\\\n        <script type=\"text/javascript\">\\\\n            P.when(\\\\\\'A\\\\\\', \\\\\\'cf\\\\\\').execute(function(A) {\\\\n                A.declarative(\\\\\\'acrStarsLink-click-metrics\\\\\\', \\\\\\'click\\\\\\', { \"allowLinkDefault\" : true },  function(event){\\\\n                    if(window.ue) {\\\\n                        ue.count(\"acrStarsLinkWithPopoverClickCount\", (ue.count(\"acrStarsLinkWithPopoverClickCount\") || 0) + 1);\\\\n                    }\\\\n                });\\\\n            });\\\\n        </script>\\\\n\\\\n\\\\n                \\\\n            \\\\n        </div>\\']',\n",
       " '[\\'100% Polyester\\', \\'Imported\\', \\'Pull On closure\\', \\'Machine Wash\\', \\'2 piece set\\', \\'Navy top\\', \\'Red and navy checkered plaid bottoms\\', \\'Elastic waist\\', \\'Soft hand feel\\', \\'<span class=\"a-text-bold\">Package Dimensions:\\\\n                    </span>\\\\n                    <span>0.4 x 0.4 x 0.4 inches</span>\\', \\'<span class=\"a-text-bold\">Shipping Weight:\\\\n                    </span>\\\\n                    <span>1 pounds (<a href=\\\\\\'https://www.amazon.com/gp/help/seller/shipping.html/ref=dp_pd_shipping?_encoding=UTF8&amp;seller=ATVPDKIKX0DER&amp;asin=B012I5I2R2\\\\\\'>View shipping rates and policies</a>)</span>\\', \\'<span class=\"a-text-bold\">ASIN:\\\\n                    </span>\\\\n                    <span>B012I5I2R2</span>\\', \\'\\', \\'<span class=\"a-text-bold\">Item model number:\\\\n                    </span>\\\\n                    <span>019680</span>\\', \\'<span class=\"a-text-bold\">Date first listed on Amazon:\\\\n                    </span>\\\\n                    <span>October 28, 2015</span>\\', \\'<span class=\"a-text-bold\">\\\\n                    Average Customer Review:\\\\n                </span>\\\\n                \\\\n\\\\n\\\\n\\\\n\\\\n<style type=\"text/css\">\\\\n    /* \\\\n    * Fix for UDP-1061. Average customer reviews has a small extra line on hover \\\\n    * https://omni-grok.amazon.com/xref/src/appgroup/websiteTemplates/retail/SoftlinesDetailPageAssets/udp-intl-lock/src/legacy.css?indexName=WebsiteTemplates#40\\\\n    */\\\\n    .noUnderline a:hover { \\\\n        text-decoration: none; \\\\n    }\\\\n</style>\\\\n\\\\n\\\\n\\\\n    \\\\n    \\\\n    \\\\n    \\\\n        \\\\n\\\\n        \\\\n\\\\n        \\\\n        \\\\n        \\\\n        \\\\n\\\\t\\\\t\\\\n\\\\t\\\\t\\\\n\\\\t\\\\t\\\\n\\\\t\\\\t\\\\n\\\\t\\\\t        \\\\n\\\\t\\\\t\\\\n\\\\t\\\\t\\\\n\\\\t\\\\t\\\\n\\\\t\\\\t\\\\n\\\\t\\\\t\\\\n\\\\t\\\\t\\\\n\\\\t\\\\t\\\\n\\\\t\\\\t        \\\\n        \\\\n\\\\n        <div id=\"detailBullets_averageCustomerReviews\" class=\"a-spacing-none\" data-asin=\"B012I5I2R2\" data-ref=\"dpx_acr_pop_\" >\\\\n            \\\\n            \\\\n            \\\\n                \\\\n                \\\\n                    \\\\n\\\\n\\\\n\\\\n\\\\n\\\\n\\\\n\\\\n\\\\n\\\\n\\\\n        <span class=\"a-declarative\" data-action=\"acrStarsLink-click-metrics\" data-acrStarsLink-click-metrics=\"{}\">\\\\n            \\\\n\\\\n\\\\n\\\\n\\\\n\\\\n    <span id=\"acrPopover\" class=\"reviewCountTextLinkedHistogram noUnderline\" title=\"4.2 out of 5 stars\">\\\\n        <span class=\"a-declarative\" data-action=\"a-popover\" data-a-popover=\"{&quot;max-width&quot;:&quot;700&quot;,&quot;closeButton&quot;:&quot;false&quot;,&quot;position&quot;:&quot;triggerBottom&quot;,&quot;url&quot;:&quot;/gp/customer-reviews/widgets/average-customer-review/popover/ref=dpx_acr_pop_?contextId=dpx&amp;asin=B012I5I2R2&quot;}\">\\\\n            <a href=\"javascript:void(0)\" class=\"a-popover-trigger a-declarative\">\\\\n                \\\\n\\\\n<i class=\"a-icon a-icon-star a-star-4\"><span class=\"a-icon-alt\">4.2 out of 5 stars</span></i>\\\\n                \\\\n            <i class=\"a-icon a-icon-popover\"></i></a>\\\\n        </span>\\\\n        <span class=\"a-letter-space\"></span>\\\\n    </span>\\\\n\\\\n\\\\n        </span>\\\\n        <span class=\"a-letter-space\"></span>\\\\n        \\\\n        \\\\n\\\\n        \\\\n\\\\n        \\\\n\\\\n        \\\\n        \\\\n        \\\\n        \\\\n        \\\\n        \\\\n        \\\\n            \\\\n            \\\\n                <span class=\"a-declarative\" data-action=\"acrLink-click-metrics\" data-acrLink-click-metrics=\"{}\">\\\\n                    <a id=\"acrCustomerReviewLink\" class=\"a-link-normal\" href=\"#customerReviews\">\\\\n                        <span id=\"acrCustomerReviewText\" class=\"a-size-base\">28 customer reviews</span>\\\\n                    </a>\\\\n                </span>\\\\n            \\\\n                <script type=\"text/javascript\">\\\\n                    P.when(\\\\\\'A\\\\\\', \\\\\\'ready\\\\\\').execute(function(A) {\\\\n                        A.declarative(\\\\\\'acrLink-click-metrics\\\\\\', \\\\\\'click\\\\\\', { \"allowLinkDefault\" : true }, function(event){\\\\n                            if(window.ue) {\\\\n                                ue.count(\"acrLinkClickCount\", (ue.count(\"acrLinkClickCount\") || 0) + 1);\\\\n                            }\\\\n                        });\\\\n                    });\\\\n                </script>\\\\n            \\\\n            \\\\n            \\\\n            \\\\n        \\\\n        \\\\n        <script type=\"text/javascript\">\\\\n            P.when(\\\\\\'A\\\\\\', \\\\\\'cf\\\\\\').execute(function(A) {\\\\n                A.declarative(\\\\\\'acrStarsLink-click-metrics\\\\\\', \\\\\\'click\\\\\\', { \"allowLinkDefault\" : true },  function(event){\\\\n                    if(window.ue) {\\\\n                        ue.count(\"acrStarsLinkWithPopoverClickCount\", (ue.count(\"acrStarsLinkWithPopoverClickCount\") || 0) + 1);\\\\n                    }\\\\n                });\\\\n            });\\\\n        </script>\\\\n\\\\n\\\\n                \\\\n            \\\\n        </div>\\']',\n",
       " '[\\'pure pvc/soft tags, sleeve on back with an address card\\', \\'funny/attractive/unique/cute\\', \\'set of 5 PCS in each package/5 diffrent colors\\', \\'size: 4.4 inchX2.5inch\\', \\'<span class=\"a-text-bold\">Package Dimensions:\\\\n                    </span>\\\\n                    <span>4.6 x 2.8 x 1.3 inches</span>\\', \\'<span class=\"a-text-bold\">Shipping Weight:\\\\n                    </span>\\\\n                    <span>5.6 ounces (<a href=\\\\\\'https://www.amazon.com/gp/help/seller/shipping.html/ref=dp_pd_shipping?_encoding=UTF8&amp;seller=ATVPDKIKX0DER&amp;asin=B00JDVI0KY\\\\\\'>View shipping rates and policies</a>)</span>\\', \\'<span class=\"a-text-bold\">ASIN:\\\\n                    </span>\\\\n                    <span>B00JDVI0KY</span>\\', \\'\\', \\'<span class=\"a-text-bold\">Date first listed on Amazon:\\\\n                    </span>\\\\n                    <span>March 31, 2014</span>\\', \\'<span class=\"a-text-bold\">\\\\n                    Average Customer Review:\\\\n                </span>\\\\n                \\\\n\\\\n\\\\n\\\\n\\\\n<style type=\"text/css\">\\\\n    /* \\\\n    * Fix for UDP-1061. Average customer reviews has a small extra line on hover \\\\n    * https://omni-grok.amazon.com/xref/src/appgroup/websiteTemplates/retail/SoftlinesDetailPageAssets/udp-intl-lock/src/legacy.css?indexName=WebsiteTemplates#40\\\\n    */\\\\n    .noUnderline a:hover { \\\\n        text-decoration: none; \\\\n    }\\\\n</style>\\\\n\\\\n\\\\n\\\\n    \\\\n    \\\\n    \\\\n    \\\\n        \\\\n\\\\n        \\\\n\\\\n        \\\\n        \\\\n        \\\\n        \\\\n\\\\t\\\\t\\\\n\\\\t\\\\t\\\\n\\\\t\\\\t\\\\n\\\\t\\\\t\\\\n\\\\t\\\\t        \\\\n\\\\t\\\\t\\\\n\\\\t\\\\t\\\\n\\\\t\\\\t\\\\n\\\\t\\\\t\\\\n\\\\t\\\\t\\\\n\\\\t\\\\t\\\\n\\\\t\\\\t\\\\n\\\\t\\\\t        \\\\n        \\\\n\\\\n        <div id=\"detailBullets_averageCustomerReviews\" class=\"a-spacing-none\" data-asin=\"B00JDVI0KY\" data-ref=\"dpx_acr_pop_\" >\\\\n            \\\\n            \\\\n            \\\\n                \\\\n                \\\\n                    \\\\n\\\\n\\\\n\\\\n\\\\n\\\\n\\\\n\\\\n\\\\n\\\\n\\\\n        <span class=\"a-declarative\" data-action=\"acrStarsLink-click-metrics\" data-acrStarsLink-click-metrics=\"{}\">\\\\n            \\\\n\\\\n\\\\n\\\\n\\\\n\\\\n    <span id=\"acrPopover\" class=\"reviewCountTextLinkedHistogram noUnderline\" title=\"4.3 out of 5 stars\">\\\\n        <span class=\"a-declarative\" data-action=\"a-popover\" data-a-popover=\"{&quot;max-width&quot;:&quot;700&quot;,&quot;closeButton&quot;:&quot;false&quot;,&quot;position&quot;:&quot;triggerBottom&quot;,&quot;url&quot;:&quot;/gp/customer-reviews/widgets/average-customer-review/popover/ref=dpx_acr_pop_?contextId=dpx&amp;asin=B00JDVI0KY&quot;}\">\\\\n            <a href=\"javascript:void(0)\" class=\"a-popover-trigger a-declarative\">\\\\n                \\\\n\\\\n<i class=\"a-icon a-icon-star a-star-4-5\"><span class=\"a-icon-alt\">4.3 out of 5 stars</span></i>\\\\n                \\\\n            <i class=\"a-icon a-icon-popover\"></i></a>\\\\n        </span>\\\\n        <span class=\"a-letter-space\"></span>\\\\n    </span>\\\\n\\\\n\\\\n        </span>\\\\n        <span class=\"a-letter-space\"></span>\\\\n        \\\\n        \\\\n\\\\n        \\\\n\\\\n        \\\\n\\\\n        \\\\n        \\\\n        \\\\n        \\\\n        \\\\n        \\\\n        \\\\n            \\\\n            \\\\n                <span class=\"a-declarative\" data-action=\"acrLink-click-metrics\" data-acrLink-click-metrics=\"{}\">\\\\n                    <a id=\"acrCustomerReviewLink\" class=\"a-link-normal\" href=\"#customerReviews\">\\\\n                        <span id=\"acrCustomerReviewText\" class=\"a-size-base\">69 customer reviews</span>\\\\n                    </a>\\\\n                </span>\\\\n            \\\\n                <script type=\"text/javascript\">\\\\n                    P.when(\\\\\\'A\\\\\\', \\\\\\'ready\\\\\\').execute(function(A) {\\\\n                        A.declarative(\\\\\\'acrLink-click-metrics\\\\\\', \\\\\\'click\\\\\\', { \"allowLinkDefault\" : true }, function(event){\\\\n                            if(window.ue) {\\\\n                                ue.count(\"acrLinkClickCount\", (ue.count(\"acrLinkClickCount\") || 0) + 1);\\\\n                            }\\\\n                        });\\\\n                    });\\\\n                </script>\\\\n            \\\\n            \\\\n            \\\\n            \\\\n        \\\\n        \\\\n        <script type=\"text/javascript\">\\\\n            P.when(\\\\\\'A\\\\\\', \\\\\\'cf\\\\\\').execute(function(A) {\\\\n                A.declarative(\\\\\\'acrStarsLink-click-metrics\\\\\\', \\\\\\'click\\\\\\', { \"allowLinkDefault\" : true },  function(event){\\\\n                    if(window.ue) {\\\\n                        ue.count(\"acrStarsLinkWithPopoverClickCount\", (ue.count(\"acrStarsLinkWithPopoverClickCount\") || 0) + 1);\\\\n                    }\\\\n                });\\\\n            });\\\\n        </script>\\\\n\\\\n\\\\n                \\\\n            \\\\n        </div>\\']',\n",
       " '[\\'100% Textile\\', \\'Made in the USA or Imported\\', \\'Rubber sole\\', \\'Perfect for everyday wear\\', \\'Casual lace-up pimsoll shoe featuring printed cotton textiles\\', \\'Swellular cushioning soft molded EVA footbed with anatomical arch support\\', \\'Swellular traction durable rubber outsole with jute inlay\\', \\'You can return this item for any reason and get a full refund: no shipping charges. The item must be returned in new and unused condition.\\', \\'<a id=\"creturns-policy-url-text-pc\" class=\"a-link-normal\" href=\"/b/ref=frt_dp_sm?ie=UTF8&node=8622296011\">\\\\n                        Read the full returns policy\\\\n                    </a>\\', \\'Go to Your Orders to start the return\\', \\'Print the return shipping label\\', \\'Ship it!\\', \\'<span class=\"a-text-bold\">Shipping Weight:\\\\n                    </span>\\\\n                    <span>4 ounces (<a href=\\\\\\'https://www.amazon.com/gp/help/seller/shipping.html/ref=dp_pd_shipping?_encoding=UTF8&amp;seller=A01647902Q0VX7I9RD7D9&amp;asin=B00OTQG48S\\\\\\'>View shipping rates and policies</a>)</span>\\', \\'<span class=\"a-text-bold\">ASIN:\\\\n                    </span>\\\\n                    <span>B00OTQG48S</span>\\', \\'\\', \\'<span class=\"a-text-bold\">Item model number:\\\\n                    </span>\\\\n                    <span>Reef Escape</span>\\', \\'<span class=\"a-text-bold\">Date first listed on Amazon:\\\\n                    </span>\\\\n                    <span>February 12, 2015</span>\\', \\'\\', \\'<span class=\"a-text-bold\">Domestic Shipping:\\\\n\\\\t\\\\t\\\\t</span>\\\\n\\\\t\\\\t\\\\t<span>Currently, item can be shipped only within the U.S. and to APO/FPO addresses. For APO/FPO shipments, please check with the manufacturer regarding warranty and support issues.</span>\\', \\'<span class=\"a-text-bold\">International Shipping:\\\\n\\\\t\\\\t\\\\t</span>\\\\n\\\\t\\\\t\\\\t<span>This item is not eligible for international shipping.  <a href=\\\\\\'/gp/help/customer/display.html?ie=UTF8&amp;nodeId=201117930\\\\\\' target=\\\\\\'InternationalShippingDetails\\\\\\'>Learn More</a></span>\\', \\'<span class=\"a-text-bold\">\\\\n                    Average Customer Review:\\\\n                </span>\\\\n                \\\\n\\\\n\\\\n\\\\n\\\\n<style type=\"text/css\">\\\\n    /* \\\\n    * Fix for UDP-1061. Average customer reviews has a small extra line on hover \\\\n    * https://omni-grok.amazon.com/xref/src/appgroup/websiteTemplates/retail/SoftlinesDetailPageAssets/udp-intl-lock/src/legacy.css?indexName=WebsiteTemplates#40\\\\n    */\\\\n    .noUnderline a:hover { \\\\n        text-decoration: none; \\\\n    }\\\\n</style>\\\\n\\\\n\\\\n\\\\n    \\\\n    \\\\n    \\\\n    \\\\n        \\\\n\\\\n        \\\\n\\\\n        \\\\n        \\\\n        \\\\n        \\\\n\\\\t\\\\t\\\\n\\\\t\\\\t\\\\n\\\\t\\\\t\\\\n\\\\t\\\\t\\\\n\\\\t\\\\t        \\\\n\\\\t\\\\t\\\\n\\\\t\\\\t\\\\n\\\\t\\\\t\\\\n\\\\t\\\\t\\\\n\\\\t\\\\t\\\\n\\\\t\\\\t\\\\n\\\\t\\\\t\\\\n\\\\t\\\\t        \\\\n        \\\\n\\\\n        <div id=\"detailBullets_averageCustomerReviews\" class=\"a-spacing-none\" data-asin=\"B00KYCIWW2\" data-ref=\"dpx_acr_pop_\" >\\\\n            \\\\n            \\\\n            \\\\n                \\\\n                \\\\n                    \\\\n\\\\n\\\\n\\\\n\\\\n\\\\n\\\\n\\\\n\\\\n\\\\n\\\\n        <span class=\"a-declarative\" data-action=\"acrStarsLink-click-metrics\" data-acrStarsLink-click-metrics=\"{}\">\\\\n            \\\\n\\\\n\\\\n\\\\n\\\\n\\\\n    <span id=\"acrPopover\" class=\"reviewCountTextLinkedHistogram noUnderline\" title=\"3.5 out of 5 stars\">\\\\n        <span class=\"a-declarative\" data-action=\"a-popover\" data-a-popover=\"{&quot;max-width&quot;:&quot;700&quot;,&quot;closeButton&quot;:&quot;false&quot;,&quot;position&quot;:&quot;triggerBottom&quot;,&quot;url&quot;:&quot;/gp/customer-reviews/widgets/average-customer-review/popover/ref=dpx_acr_pop_?contextId=dpx&amp;asin=B00KYCIWW2&quot;}\">\\\\n            <a href=\"javascript:void(0)\" class=\"a-popover-trigger a-declarative\">\\\\n                \\\\n\\\\n<i class=\"a-icon a-icon-star a-star-3-5\"><span class=\"a-icon-alt\">3.5 out of 5 stars</span></i>\\\\n                \\\\n            <i class=\"a-icon a-icon-popover\"></i></a>\\\\n        </span>\\\\n        <span class=\"a-letter-space\"></span>\\\\n    </span>\\\\n\\\\n\\\\n        </span>\\\\n        <span class=\"a-letter-space\"></span>\\\\n        \\\\n        \\\\n\\\\n        \\\\n\\\\n        \\\\n\\\\n        \\\\n        \\\\n        \\\\n        \\\\n        \\\\n        \\\\n        \\\\n            \\\\n            \\\\n                <span class=\"a-declarative\" data-action=\"acrLink-click-metrics\" data-acrLink-click-metrics=\"{}\">\\\\n                    <a id=\"acrCustomerReviewLink\" class=\"a-link-normal\" href=\"#customerReviews\">\\\\n                        <span id=\"acrCustomerReviewText\" class=\"a-size-base\">26 customer reviews</span>\\\\n                    </a>\\\\n                </span>\\\\n            \\\\n                <script type=\"text/javascript\">\\\\n                    P.when(\\\\\\'A\\\\\\', \\\\\\'ready\\\\\\').execute(function(A) {\\\\n                        A.declarative(\\\\\\'acrLink-click-metrics\\\\\\', \\\\\\'click\\\\\\', { \"allowLinkDefault\" : true }, function(event){\\\\n                            if(window.ue) {\\\\n                                ue.count(\"acrLinkClickCount\", (ue.count(\"acrLinkClickCount\") || 0) + 1);\\\\n                            }\\\\n                        });\\\\n                    });\\\\n                </script>\\\\n            \\\\n            \\\\n            \\\\n            \\\\n        \\\\n        \\\\n        <script type=\"text/javascript\">\\\\n            P.when(\\\\\\'A\\\\\\', \\\\\\'cf\\\\\\').execute(function(A) {\\\\n                A.declarative(\\\\\\'acrStarsLink-click-metrics\\\\\\', \\\\\\'click\\\\\\', { \"allowLinkDefault\" : true },  function(event){\\\\n                    if(window.ue) {\\\\n                        ue.count(\"acrStarsLinkWithPopoverClickCount\", (ue.count(\"acrStarsLinkWithPopoverClickCount\") || 0) + 1);\\\\n                    }\\\\n                });\\\\n            });\\\\n        </script>\\\\n\\\\n\\\\n                \\\\n            \\\\n        </div>\\']',\n",
       " '[\\'Black\\', \\'Like other top designer scarves you can tie and use around your head, as a trendy capelet or an infinity style method.\\', \\'Our high quality authentic stole is the best versatile accessory giving you an elegant exquisite look.\\', \\'Please note: There are 3 different Grades of Cashmere, our scarves fall under Grade A. Our scarves are not the traditional heavy, thick Cashmere. We offer an elegant, thinner, light weight product. They are suitable for all seasons of the year, but not recommended for very cold winter days. Please see image #2 on our listing for a close-up of the fabric.\\', \"They\\'re easy to carry and great for traveling. Perfect for all occasions and seasons.\", \\'Please see below for our Special offers. Size is 80\" x 30\" including 4\" fringe.\\', \\'You can return this item for any reason and get a full refund: no shipping charges. The item must be returned in new and unused condition.\\', \\'<a id=\"creturns-policy-url-text-pc\" class=\"a-link-normal\" href=\"/b/ref=frt_dp_sm?ie=UTF8&node=8622296011\">\\\\n                        Read the full returns policy\\\\n                    </a>\\', \\'Go to Your Orders to start the return\\', \\'Print the return shipping label\\', \\'Ship it!\\', \\'<span class=\"a-text-bold\">Product Dimensions:\\\\n                    </span>\\\\n                    <span>14 x 9 x 1 inches</span>\\', \\'<span class=\"a-text-bold\">Shipping Weight:\\\\n                    </span>\\\\n                    <span>9.6 ounces (<a href=\\\\\\'https://www.amazon.com/gp/help/seller/shipping.html/ref=dp_pd_shipping?_encoding=UTF8&amp;seller=ATVPDKIKX0DER&amp;asin=B01AZRJX2I\\\\\\'>View shipping rates and policies</a>)</span>\\', \\'<span class=\"a-text-bold\">ASIN:\\\\n                    </span>\\\\n                    <span>B01AZRJX2I</span>\\', \\'\\', \\'<span class=\"a-text-bold\">Item model number:\\\\n                    </span>\\\\n                    <span>Black</span>\\', \\'<span class=\"a-text-bold\">Date first listed on Amazon:\\\\n                    </span>\\\\n                    <span>January 23, 2016</span>\\', \\'<span class=\"a-text-bold\">\\\\n                    Average Customer Review:\\\\n                </span>\\\\n                \\\\n\\\\n\\\\n\\\\n\\\\n<style type=\"text/css\">\\\\n    /* \\\\n    * Fix for UDP-1061. Average customer reviews has a small extra line on hover \\\\n    * https://omni-grok.amazon.com/xref/src/appgroup/websiteTemplates/retail/SoftlinesDetailPageAssets/udp-intl-lock/src/legacy.css?indexName=WebsiteTemplates#40\\\\n    */\\\\n    .noUnderline a:hover { \\\\n        text-decoration: none; \\\\n    }\\\\n</style>\\\\n\\\\n\\\\n\\\\n    \\\\n    \\\\n    \\\\n    \\\\n        \\\\n\\\\n        \\\\n\\\\n        \\\\n        \\\\n        \\\\n        \\\\n\\\\t\\\\t\\\\n\\\\t\\\\t\\\\n\\\\t\\\\t\\\\n\\\\t\\\\t\\\\n\\\\t\\\\t        \\\\n\\\\t\\\\t\\\\n\\\\t\\\\t\\\\n\\\\t\\\\t\\\\n\\\\t\\\\t\\\\n\\\\t\\\\t\\\\n\\\\t\\\\t\\\\n\\\\t\\\\t\\\\n\\\\t\\\\t        \\\\n        \\\\n\\\\n        <div id=\"detailBullets_averageCustomerReviews\" class=\"a-spacing-none\" data-asin=\"B01AZRJX2I\" data-ref=\"dpx_acr_pop_\" >\\\\n            \\\\n            \\\\n            \\\\n                \\\\n                \\\\n                    \\\\n\\\\n\\\\n\\\\n\\\\n\\\\n\\\\n\\\\n\\\\n\\\\n\\\\n        <span class=\"a-declarative\" data-action=\"acrStarsLink-click-metrics\" data-acrStarsLink-click-metrics=\"{}\">\\\\n            \\\\n\\\\n\\\\n\\\\n\\\\n\\\\n    <span id=\"acrPopover\" class=\"reviewCountTextLinkedHistogram noUnderline\" title=\"3.5 out of 5 stars\">\\\\n        <span class=\"a-declarative\" data-action=\"a-popover\" data-a-popover=\"{&quot;max-width&quot;:&quot;700&quot;,&quot;closeButton&quot;:&quot;false&quot;,&quot;position&quot;:&quot;triggerBottom&quot;,&quot;url&quot;:&quot;/gp/customer-reviews/widgets/average-customer-review/popover/ref=dpx_acr_pop_?contextId=dpx&amp;asin=B01AZRJX2I&quot;}\">\\\\n            <a href=\"javascript:void(0)\" class=\"a-popover-trigger a-declarative\">\\\\n                \\\\n\\\\n<i class=\"a-icon a-icon-star a-star-3-5\"><span class=\"a-icon-alt\">3.5 out of 5 stars</span></i>\\\\n                \\\\n            <i class=\"a-icon a-icon-popover\"></i></a>\\\\n        </span>\\\\n        <span class=\"a-letter-space\"></span>\\\\n    </span>\\\\n\\\\n\\\\n        </span>\\\\n        <span class=\"a-letter-space\"></span>\\\\n        \\\\n        \\\\n\\\\n        \\\\n\\\\n        \\\\n\\\\n        \\\\n        \\\\n        \\\\n        \\\\n        \\\\n        \\\\n        \\\\n            \\\\n            \\\\n                <span class=\"a-declarative\" data-action=\"acrLink-click-metrics\" data-acrLink-click-metrics=\"{}\">\\\\n                    <a id=\"acrCustomerReviewLink\" class=\"a-link-normal\" href=\"#customerReviews\">\\\\n                        <span id=\"acrCustomerReviewText\" class=\"a-size-base\">81 customer reviews</span>\\\\n                    </a>\\\\n                </span>\\\\n            \\\\n                <script type=\"text/javascript\">\\\\n                    P.when(\\\\\\'A\\\\\\', \\\\\\'ready\\\\\\').execute(function(A) {\\\\n                        A.declarative(\\\\\\'acrLink-click-metrics\\\\\\', \\\\\\'click\\\\\\', { \"allowLinkDefault\" : true }, function(event){\\\\n                            if(window.ue) {\\\\n                                ue.count(\"acrLinkClickCount\", (ue.count(\"acrLinkClickCount\") || 0) + 1);\\\\n                            }\\\\n                        });\\\\n                    });\\\\n                </script>\\\\n            \\\\n            \\\\n            \\\\n            \\\\n        \\\\n        \\\\n        <script type=\"text/javascript\">\\\\n            P.when(\\\\\\'A\\\\\\', \\\\\\'cf\\\\\\').execute(function(A) {\\\\n                A.declarative(\\\\\\'acrStarsLink-click-metrics\\\\\\', \\\\\\'click\\\\\\', { \"allowLinkDefault\" : true },  function(event){\\\\n                    if(window.ue) {\\\\n                        ue.count(\"acrStarsLinkWithPopoverClickCount\", (ue.count(\"acrStarsLinkWithPopoverClickCount\") || 0) + 1);\\\\n                    }\\\\n                });\\\\n            });\\\\n        </script>\\\\n\\\\n\\\\n                \\\\n            \\\\n        </div>\\']',\n",
       " '[\\'Hand Wash\\', \\'Size:M -- Waist:60-68cm/23.6-26.8\";--- Size:L -- Waist:68-74cm/26.8-29.1\"; ---- Size:XL -- Waist:74-88cm/29.1-34.6\";-----Size:2XL -- Waist:88-96cm/34.6-37.8\";\\', \\'Package Include:1 PC Men Underwear\\', \\'Waist type: low-waist\\', \\'Brand New and Never used\\', \\'Material:Cotton Blend\\', \\'<span class=\"a-text-bold\">Shipping Weight:\\\\n                    </span>\\\\n                    <span>2.72 ounces (<a href=\\\\\\'https://www.amazon.com/gp/help/seller/shipping.html/ref=dp_pd_shipping?_encoding=UTF8&amp;seller=A3PHM9AXRJU2Z3&amp;asin=B017VTHJCE\\\\\\'>View shipping rates and policies</a>)</span>\\', \\'<span class=\"a-text-bold\">ASIN:\\\\n                    </span>\\\\n                    <span>B017VTHJCE</span>\\', \\'\\', \\'<span class=\"a-text-bold\">Item model number:\\\\n                    </span>\\\\n                    <span>DCEDA-564</span>\\', \\'<span class=\"a-text-bold\">Date first listed on Amazon:\\\\n                    </span>\\\\n                    <span>November 11, 2015</span>\\', \\'<span class=\"a-text-bold\">\\\\n                    Average Customer Review:\\\\n                </span>\\\\n                \\\\n\\\\n\\\\n\\\\n\\\\n<style type=\"text/css\">\\\\n    /* \\\\n    * Fix for UDP-1061. Average customer reviews has a small extra line on hover \\\\n    * https://omni-grok.amazon.com/xref/src/appgroup/websiteTemplates/retail/SoftlinesDetailPageAssets/udp-intl-lock/src/legacy.css?indexName=WebsiteTemplates#40\\\\n    */\\\\n    .noUnderline a:hover { \\\\n        text-decoration: none; \\\\n    }\\\\n</style>\\\\n\\\\n\\\\n\\\\n    \\\\n    \\\\n    \\\\n    \\\\n        \\\\n\\\\n        \\\\n\\\\n        \\\\n        \\\\n        \\\\n        \\\\n\\\\t\\\\t\\\\n\\\\t\\\\t\\\\n\\\\t\\\\t\\\\n\\\\t\\\\t\\\\n\\\\t\\\\t        \\\\n\\\\t\\\\t\\\\n\\\\t\\\\t\\\\n\\\\t\\\\t\\\\n\\\\t\\\\t\\\\n\\\\t\\\\t\\\\n\\\\t\\\\t\\\\n\\\\t\\\\t\\\\n\\\\t\\\\t        \\\\n        \\\\n\\\\n        <div id=\"detailBullets_averageCustomerReviews\" class=\"a-spacing-none\" data-asin=\"B017VTHJCE\" data-ref=\"dpx_acr_pop_\" >\\\\n            \\\\n            \\\\n            \\\\n                \\\\n                \\\\n                    \\\\n\\\\n\\\\n\\\\n\\\\n\\\\n\\\\n\\\\n\\\\n\\\\n\\\\n        <span class=\"a-declarative\" data-action=\"acrStarsLink-click-metrics\" data-acrStarsLink-click-metrics=\"{}\">\\\\n            \\\\n\\\\n\\\\n\\\\n\\\\n\\\\n    <span id=\"acrPopover\" class=\"reviewCountTextLinkedHistogram noUnderline\" title=\"3.3 out of 5 stars\">\\\\n        <span class=\"a-declarative\" data-action=\"a-popover\" data-a-popover=\"{&quot;max-width&quot;:&quot;700&quot;,&quot;closeButton&quot;:&quot;false&quot;,&quot;position&quot;:&quot;triggerBottom&quot;,&quot;url&quot;:&quot;/gp/customer-reviews/widgets/average-customer-review/popover/ref=dpx_acr_pop_?contextId=dpx&amp;asin=B017VTHJCE&quot;}\">\\\\n            <a href=\"javascript:void(0)\" class=\"a-popover-trigger a-declarative\">\\\\n                \\\\n\\\\n<i class=\"a-icon a-icon-star a-star-3-5\"><span class=\"a-icon-alt\">3.3 out of 5 stars</span></i>\\\\n                \\\\n            <i class=\"a-icon a-icon-popover\"></i></a>\\\\n        </span>\\\\n        <span class=\"a-letter-space\"></span>\\\\n    </span>\\\\n\\\\n\\\\n        </span>\\\\n        <span class=\"a-letter-space\"></span>\\\\n        \\\\n        \\\\n\\\\n        \\\\n\\\\n        \\\\n\\\\n        \\\\n        \\\\n        \\\\n        \\\\n        \\\\n        \\\\n        \\\\n            \\\\n            \\\\n                <span class=\"a-declarative\" data-action=\"acrLink-click-metrics\" data-acrLink-click-metrics=\"{}\">\\\\n                    <a id=\"acrCustomerReviewLink\" class=\"a-link-normal\" href=\"#customerReviews\">\\\\n                        <span id=\"acrCustomerReviewText\" class=\"a-size-base\">71 customer reviews</span>\\\\n                    </a>\\\\n                </span>\\\\n            \\\\n                <script type=\"text/javascript\">\\\\n                    P.when(\\\\\\'A\\\\\\', \\\\\\'ready\\\\\\').execute(function(A) {\\\\n                        A.declarative(\\\\\\'acrLink-click-metrics\\\\\\', \\\\\\'click\\\\\\', { \"allowLinkDefault\" : true }, function(event){\\\\n                            if(window.ue) {\\\\n                                ue.count(\"acrLinkClickCount\", (ue.count(\"acrLinkClickCount\") || 0) + 1);\\\\n                            }\\\\n                        });\\\\n                    });\\\\n                </script>\\\\n            \\\\n            \\\\n            \\\\n            \\\\n        \\\\n        \\\\n        <script type=\"text/javascript\">\\\\n            P.when(\\\\\\'A\\\\\\', \\\\\\'cf\\\\\\').execute(function(A) {\\\\n                A.declarative(\\\\\\'acrStarsLink-click-metrics\\\\\\', \\\\\\'click\\\\\\', { \"allowLinkDefault\" : true },  function(event){\\\\n                    if(window.ue) {\\\\n                        ue.count(\"acrStarsLinkWithPopoverClickCount\", (ue.count(\"acrStarsLinkWithPopoverClickCount\") || 0) + 1);\\\\n                    }\\\\n                });\\\\n            });\\\\n        </script>\\\\n\\\\n\\\\n                \\\\n            \\\\n        </div>\\']',\n",
       " '[\\'100% Cotton\\', \\'Pull On closure\\', \\'100% cotton preshrunk jersey\\', \\'Ash is 98/2 cotton/poly; Athletic Heather is 90/10 cotton/poly\\', \\'Black Heather, Neon Green, Neon Pink, Safety (Green, Orange) - 50/50 cotton/poly\\', \\'shoulder-to-shoulder tape; double-needle coverstitched front neck\\', \\'ribbed cuffs with concealed seam\\', \\'<span class=\"a-text-bold\">Shipping Information:\\\\n                    </span>\\\\n                    <span><a href=\\\\\\'https://www.amazon.com/gp/help/seller/shipping.html/ref=dp_pd_shipping?_encoding=UTF8&amp;seller=&amp;asin=B078YVDQCZ\\\\\\'>View shipping rates and policies</a></span>\\', \\'<span class=\"a-text-bold\">ASIN:\\\\n                    </span>\\\\n                    <span>B078YVDQCZ</span>\\', \\'\\', \\'<span class=\"a-text-bold\">Item model number:\\\\n                    </span>\\\\n                    <span>4930</span>\\', \\'<span class=\"a-text-bold\">Date first listed on Amazon:\\\\n                    </span>\\\\n                    <span>January 12, 2018</span>\\', \\'<span class=\"a-text-bold\">\\\\n                    Average Customer Review:\\\\n                </span>\\\\n                \\\\n\\\\n\\\\n\\\\n\\\\n<style type=\"text/css\">\\\\n    /* \\\\n    * Fix for UDP-1061. Average customer reviews has a small extra line on hover \\\\n    * https://omni-grok.amazon.com/xref/src/appgroup/websiteTemplates/retail/SoftlinesDetailPageAssets/udp-intl-lock/src/legacy.css?indexName=WebsiteTemplates#40\\\\n    */\\\\n    .noUnderline a:hover { \\\\n        text-decoration: none; \\\\n    }\\\\n</style>\\\\n\\\\n\\\\n\\\\n    \\\\n    \\\\n    \\\\n    \\\\n        \\\\n\\\\n        \\\\n\\\\n        \\\\n        \\\\n        \\\\n        \\\\n\\\\t\\\\t\\\\n\\\\t\\\\t\\\\n\\\\t\\\\t\\\\n\\\\t\\\\t\\\\n\\\\t\\\\t        \\\\n\\\\t\\\\t\\\\n\\\\t\\\\t\\\\n\\\\t\\\\t\\\\n\\\\t\\\\t\\\\n\\\\t\\\\t\\\\n\\\\t\\\\t\\\\n\\\\t\\\\t\\\\n\\\\t\\\\t        \\\\n        \\\\n\\\\n        <div id=\"detailBullets_averageCustomerReviews\" class=\"a-spacing-none\" data-asin=\"B078YVDQCZ\" data-ref=\"dpx_acr_pop_\" >\\\\n            \\\\n            \\\\n            \\\\n                \\\\n                \\\\n                    \\\\n\\\\n\\\\n\\\\n\\\\n\\\\n\\\\n\\\\n\\\\n\\\\n\\\\n        <span class=\"a-declarative\" data-action=\"acrStarsLink-click-metrics\" data-acrStarsLink-click-metrics=\"{}\">\\\\n            \\\\n\\\\n\\\\n\\\\n\\\\n\\\\n    <span id=\"acrPopover\" class=\"reviewCountTextLinkedHistogram noUnderline\" title=\"3.7 out of 5 stars\">\\\\n        <span class=\"a-declarative\" data-action=\"a-popover\" data-a-popover=\"{&quot;max-width&quot;:&quot;700&quot;,&quot;closeButton&quot;:&quot;false&quot;,&quot;position&quot;:&quot;triggerBottom&quot;,&quot;url&quot;:&quot;/gp/customer-reviews/widgets/average-customer-review/popover/ref=dpx_acr_pop_?contextId=dpx&amp;asin=B078YVDQCZ&quot;}\">\\\\n            <a href=\"javascript:void(0)\" class=\"a-popover-trigger a-declarative\">\\\\n                \\\\n\\\\n<i class=\"a-icon a-icon-star a-star-3-5\"><span class=\"a-icon-alt\">3.7 out of 5 stars</span></i>\\\\n                \\\\n            <i class=\"a-icon a-icon-popover\"></i></a>\\\\n        </span>\\\\n        <span class=\"a-letter-space\"></span>\\\\n    </span>\\\\n\\\\n\\\\n        </span>\\\\n        <span class=\"a-letter-space\"></span>\\\\n        \\\\n        \\\\n\\\\n        \\\\n\\\\n        \\\\n\\\\n        \\\\n        \\\\n        \\\\n        \\\\n        \\\\n        \\\\n        \\\\n            \\\\n            \\\\n                <span class=\"a-declarative\" data-action=\"acrLink-click-metrics\" data-acrLink-click-metrics=\"{}\">\\\\n                    <a id=\"acrCustomerReviewLink\" class=\"a-link-normal\" href=\"#customerReviews\">\\\\n                        <span id=\"acrCustomerReviewText\" class=\"a-size-base\">14 customer reviews</span>\\\\n                    </a>\\\\n                </span>\\\\n            \\\\n                <script type=\"text/javascript\">\\\\n                    P.when(\\\\\\'A\\\\\\', \\\\\\'ready\\\\\\').execute(function(A) {\\\\n                        A.declarative(\\\\\\'acrLink-click-metrics\\\\\\', \\\\\\'click\\\\\\', { \"allowLinkDefault\" : true }, function(event){\\\\n                            if(window.ue) {\\\\n                                ue.count(\"acrLinkClickCount\", (ue.count(\"acrLinkClickCount\") || 0) + 1);\\\\n                            }\\\\n                        });\\\\n                    });\\\\n                </script>\\\\n            \\\\n            \\\\n            \\\\n            \\\\n        \\\\n        \\\\n        <script type=\"text/javascript\">\\\\n            P.when(\\\\\\'A\\\\\\', \\\\\\'cf\\\\\\').execute(function(A) {\\\\n                A.declarative(\\\\\\'acrStarsLink-click-metrics\\\\\\', \\\\\\'click\\\\\\', { \"allowLinkDefault\" : true },  function(event){\\\\n                    if(window.ue) {\\\\n                        ue.count(\"acrStarsLinkWithPopoverClickCount\", (ue.count(\"acrStarsLinkWithPopoverClickCount\") || 0) + 1);\\\\n                    }\\\\n                });\\\\n            });\\\\n        </script>\\\\n\\\\n\\\\n                \\\\n            \\\\n        </div>\\']']"
      ]
     },
     "execution_count": 124,
     "metadata": {},
     "output_type": "execute_result"
    }
   ],
   "source": [
    "metadata['feature'].sample(10).to_list()"
   ]
  },
  {
   "cell_type": "code",
   "execution_count": null,
   "metadata": {},
   "outputs": [],
   "source": []
  }
 ],
 "metadata": {
  "kernelspec": {
   "display_name": "isr_project",
   "language": "python",
   "name": "python3"
  },
  "language_info": {
   "codemirror_mode": {
    "name": "ipython",
    "version": 3
   },
   "file_extension": ".py",
   "mimetype": "text/x-python",
   "name": "python",
   "nbconvert_exporter": "python",
   "pygments_lexer": "ipython3",
   "version": "3.11.3"
  },
  "orig_nbformat": 4
 },
 "nbformat": 4,
 "nbformat_minor": 2
}
