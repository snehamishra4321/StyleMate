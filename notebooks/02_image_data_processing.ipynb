{
 "cells": [
  {
   "cell_type": "code",
   "execution_count": 1,
   "metadata": {},
   "outputs": [],
   "source": [
    "import pandas as pd\n",
    "import numpy as np\n",
    "import json\n",
    "from tqdm import tqdm"
   ]
  },
  {
   "cell_type": "code",
   "execution_count": 4,
   "metadata": {},
   "outputs": [
    {
     "name": "stderr",
     "output_type": "stream",
     "text": [
      "419315it [00:57, 8730.19it/s]"
     ]
    },
    {
     "name": "stdout",
     "output_type": "stream",
     "text": [
      "1000\n"
     ]
    },
    {
     "name": "stderr",
     "output_type": "stream",
     "text": [
      "1093940it [02:16, 8787.36it/s]"
     ]
    },
    {
     "name": "stdout",
     "output_type": "stream",
     "text": [
      "2000\n"
     ]
    },
    {
     "name": "stderr",
     "output_type": "stream",
     "text": [
      "1674420it [03:24, 8807.96it/s]"
     ]
    },
    {
     "name": "stdout",
     "output_type": "stream",
     "text": [
      "3000\n"
     ]
    },
    {
     "name": "stderr",
     "output_type": "stream",
     "text": [
      "2103813it [04:14, 8697.48it/s]"
     ]
    },
    {
     "name": "stdout",
     "output_type": "stream",
     "text": [
      "4000\n"
     ]
    },
    {
     "name": "stderr",
     "output_type": "stream",
     "text": [
      "2479778it [04:59, 8031.36it/s]"
     ]
    },
    {
     "name": "stdout",
     "output_type": "stream",
     "text": [
      "5000\n"
     ]
    },
    {
     "name": "stderr",
     "output_type": "stream",
     "text": [
      "2685059it [05:23, 8289.61it/s]\n"
     ]
    }
   ],
   "source": [
    "# List of final 5k products\n",
    "final_metadata_df = pd.read_csv('../Project_Data/Metadata.csv', index_col=0)\n",
    "final_asins = list(final_metadata_df.asin)\n",
    "\n",
    "meta_file = r'E:\\ISR Project\\meta_Clothing_Shoes_and_Jewelry.json'\n",
    "file = open(meta_file)\n",
    "selected_item_lists = []\n",
    "total_selected_items = 0\n",
    "for line in tqdm(file):\n",
    "    item = json.loads(line)\n",
    "    # If the item in 5k, get all the details of the item\n",
    "    if item['asin'] in final_asins:\n",
    "        selected_item_lists.append(item)\n",
    "        total_selected_items+=1\n",
    "\n",
    "        if total_selected_items%1000==0:\n",
    "            print(total_selected_items)\n",
    "            \n",
    "data_df = pd.DataFrame(selected_item_lists)\n",
    "data_df.to_csv('../Project_Data/Metadata_w_urls.csv')"
   ]
  },
  {
   "cell_type": "code",
   "execution_count": 14,
   "metadata": {},
   "outputs": [
    {
     "data": {
      "text/plain": [
       "5    [https://images-na.ssl-images-amazon.com/image...\n",
       "6    [https://images-na.ssl-images-amazon.com/image...\n",
       "7    [https://images-na.ssl-images-amazon.com/image...\n",
       "8    [https://images-na.ssl-images-amazon.com/image...\n",
       "9    [https://images-na.ssl-images-amazon.com/image...\n",
       "Name: imageURLHighRes, dtype: object"
      ]
     },
     "execution_count": 14,
     "metadata": {},
     "output_type": "execute_result"
    }
   ],
   "source": [
    "data_df['imageURLHighRes'].iloc[5:10]"
   ]
  },
  {
   "cell_type": "code",
   "execution_count": 2,
   "metadata": {},
   "outputs": [
    {
     "name": "stderr",
     "output_type": "stream",
     "text": [
      "100%|██████████| 5576/5576 [00:00<00:00, 9829.67it/s]\n"
     ]
    }
   ],
   "source": [
    "url_list = []\n",
    "data_df = pd.read_csv('../Project_Data/Metadata_w_urls.csv', index_col=0)\n",
    "\n",
    "for index, product in tqdm(data_df.iterrows(), total = data_df.shape[0]):\n",
    "    urls = eval(product['imageURLHighRes'])\n",
    "    asin = product['asin']\n",
    "\n",
    "    for ind, url in enumerate(urls):\n",
    "        extension = url.split('.')[-1]\n",
    "        file_name = asin+'_'+str(ind)+'.'+extension\n",
    "        url_list.append((url, file_name))\n"
   ]
  },
  {
   "cell_type": "code",
   "execution_count": 7,
   "metadata": {},
   "outputs": [
    {
     "data": {
      "text/plain": [
       "[('https://images-na.ssl-images-amazon.com/images/I/41WNLG9KLhL.jpg',\n",
       "  'B000072US4_0.jpg'),\n",
       " ('https://images-na.ssl-images-amazon.com/images/I/41-05wF3cOL.jpg',\n",
       "  'B000072US4_1.jpg'),\n",
       " ('https://images-na.ssl-images-amazon.com/images/I/31J8LKDaMFL.jpg',\n",
       "  'B000072US4_2.jpg'),\n",
       " ('https://images-na.ssl-images-amazon.com/images/I/41jCPH7z5SL.jpg',\n",
       "  'B000072US4_3.jpg'),\n",
       " ('https://images-na.ssl-images-amazon.com/images/I/41rf15znuxL.jpg',\n",
       "  'B000072US4_4.jpg'),\n",
       " ('https://images-na.ssl-images-amazon.com/images/I/41d9depNfrL.jpg',\n",
       "  'B000072US4_5.jpg'),\n",
       " ('https://images-na.ssl-images-amazon.com/images/I/41KfCQ17c1L.jpg',\n",
       "  'B000072US4_6.jpg'),\n",
       " ('https://images-na.ssl-images-amazon.com/images/I/51BSzCqmqUL.jpg',\n",
       "  'B000072US4_7.jpg'),\n",
       " ('https://images-na.ssl-images-amazon.com/images/I/41s5I7RZKLL.jpg',\n",
       "  'B000072US4_8.jpg'),\n",
       " ('https://images-na.ssl-images-amazon.com/images/I/31wXGYBMt-L.jpg',\n",
       "  'B000072US4_9.jpg')]"
      ]
     },
     "execution_count": 7,
     "metadata": {},
     "output_type": "execute_result"
    }
   ],
   "source": [
    "url_list[:10]"
   ]
  },
  {
   "cell_type": "code",
   "execution_count": 4,
   "metadata": {},
   "outputs": [
    {
     "name": "stderr",
     "output_type": "stream",
     "text": [
      "100%|██████████| 42108/42108 [1:54:03<00:00,  6.15it/s]  \n"
     ]
    }
   ],
   "source": [
    "import requests\n",
    "from multiprocessing.pool import ThreadPool as Pool\n",
    "\n",
    "\n",
    "import multiprocessing\n",
    "import os\n",
    "import requests\n",
    "import pdb\n",
    "from multiprocessing  import Pool\n",
    "\n",
    "url_list_trim = url_list[:20]\n",
    "\n",
    "IMAGE_FOLDER_HR = '../Project_Data/Images'\n",
    "if not os.path.exists(IMAGE_FOLDER_HR):\n",
    "    os.mkdir(IMAGE_FOLDER_HR)\n",
    "\n",
    "errors = 0\n",
    "\n",
    "def download(url_params):\n",
    "    global errors\n",
    "    url, file_name = url_params\n",
    "    try:\n",
    "        r = requests.get(url, allow_redirects=True)\n",
    "        return (r.content,file_name)\n",
    "    except:\n",
    "        errors+=1\n",
    "        return (-1,-1)\n",
    "\n",
    "\n",
    "pool = Pool(6)\n",
    "for content, file_name in tqdm(pool.imap_unordered(download, url_list), total = len(url_list)):\n",
    "    try:\n",
    "        open(os.path.join(IMAGE_FOLDER_HR,file_name), 'wb').write(content)\n",
    "    except:\n",
    "        continue"
   ]
  }
 ],
 "metadata": {
  "kernelspec": {
   "display_name": "isr_project",
   "language": "python",
   "name": "python3"
  },
  "language_info": {
   "codemirror_mode": {
    "name": "ipython",
    "version": 3
   },
   "file_extension": ".py",
   "mimetype": "text/x-python",
   "name": "python",
   "nbconvert_exporter": "python",
   "pygments_lexer": "ipython3",
   "version": "3.11.3"
  },
  "orig_nbformat": 4
 },
 "nbformat": 4,
 "nbformat_minor": 2
}
